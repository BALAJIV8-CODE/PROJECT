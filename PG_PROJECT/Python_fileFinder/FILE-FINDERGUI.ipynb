{
 "cells": [
  {
   "cell_type": "code",
   "execution_count": 2,
   "metadata": {},
   "outputs": [
    {
     "ename": "TclError",
     "evalue": "bitmap \"C:/Users/vinot/Desktop/MCA/Coding/python/PG_PROJECT/fileFinderPython/fileFind.ico\" not defined",
     "output_type": "error",
     "traceback": [
      "\u001b[1;31m---------------------------------------------------------------------------\u001b[0m",
      "\u001b[1;31mTclError\u001b[0m                                  Traceback (most recent call last)",
      "Cell \u001b[1;32mIn[2], line 7\u001b[0m\n\u001b[0;32m      5\u001b[0m root \u001b[39m=\u001b[39m Tk()\n\u001b[0;32m      6\u001b[0m root\u001b[39m.\u001b[39mtitle(\u001b[39m'\u001b[39m\u001b[39mFile Finder\u001b[39m\u001b[39m'\u001b[39m)\n\u001b[1;32m----> 7\u001b[0m root\u001b[39m.\u001b[39;49miconbitmap(\u001b[39m'\u001b[39;49m\u001b[39mC:/Users/vinot/Desktop/MCA/Coding/python/PG_PROJECT/fileFinderPython/fileFind.ico\u001b[39;49m\u001b[39m'\u001b[39;49m)\n\u001b[0;32m      8\u001b[0m root\u001b[39m.\u001b[39mgeometry(\u001b[39m'\u001b[39m\u001b[39m200x150\u001b[39m\u001b[39m'\u001b[39m)\n\u001b[0;32m     11\u001b[0m \u001b[39m# change bg by Obj\u001b[39;00m\n\u001b[0;32m     12\u001b[0m \n\u001b[0;32m     13\u001b[0m \n\u001b[0;32m     14\u001b[0m \u001b[39m#def function \u001b[39;00m\n",
      "File \u001b[1;32mc:\\Users\\vinot\\AppData\\Local\\Programs\\Python\\Python311\\Lib\\tkinter\\__init__.py:2136\u001b[0m, in \u001b[0;36mWm.wm_iconbitmap\u001b[1;34m(self, bitmap, default)\u001b[0m\n\u001b[0;32m   2134\u001b[0m     \u001b[39mreturn\u001b[39;00m \u001b[39mself\u001b[39m\u001b[39m.\u001b[39mtk\u001b[39m.\u001b[39mcall(\u001b[39m'\u001b[39m\u001b[39mwm\u001b[39m\u001b[39m'\u001b[39m, \u001b[39m'\u001b[39m\u001b[39miconbitmap\u001b[39m\u001b[39m'\u001b[39m, \u001b[39mself\u001b[39m\u001b[39m.\u001b[39m_w, \u001b[39m'\u001b[39m\u001b[39m-default\u001b[39m\u001b[39m'\u001b[39m, default)\n\u001b[0;32m   2135\u001b[0m \u001b[39melse\u001b[39;00m:\n\u001b[1;32m-> 2136\u001b[0m     \u001b[39mreturn\u001b[39;00m \u001b[39mself\u001b[39;49m\u001b[39m.\u001b[39;49mtk\u001b[39m.\u001b[39;49mcall(\u001b[39m'\u001b[39;49m\u001b[39mwm\u001b[39;49m\u001b[39m'\u001b[39;49m, \u001b[39m'\u001b[39;49m\u001b[39miconbitmap\u001b[39;49m\u001b[39m'\u001b[39;49m, \u001b[39mself\u001b[39;49m\u001b[39m.\u001b[39;49m_w, bitmap)\n",
      "\u001b[1;31mTclError\u001b[0m: bitmap \"C:/Users/vinot/Desktop/MCA/Coding/python/PG_PROJECT/fileFinderPython/fileFind.ico\" not defined"
     ]
    }
   ],
   "source": [
    "from tkinter import *\n",
    "import os\n",
    "from tkinter import filedialog\n",
    "# create root for tkinder \n",
    "root = Tk()\n",
    "root.title('File Finder')\n",
    "root.iconbitmap('C:/Users/vinot/Desktop/MCA/Coding/python/PG_PROJECT/fileFinderPython/fileFind.ico')\n",
    "root.geometry('200x150')\n",
    "\n",
    "\n",
    "# change bg by Obj\n",
    "\n",
    "\n",
    "#def function \n",
    "def openFile():\n",
    "    my_program = filedialog.askopenfilename()\n",
    "    my_label.config(text=my_program)\n",
    "    img = PhotoImage(file='C:/Users/vinot/Desktop/MCA/Coding/python/PG_PROJECT/fileFinderPython/fileFind.jpg')\n",
    "    Label(root ,  image=img).pack()\n",
    "    # open from source\n",
    "    os.system('\"%s\" ' % my_program) \n",
    "\n",
    "def openExe():\n",
    "    os.system('')\n",
    "\n",
    "# button to find \n",
    "my_button = Button(root , text = 'check to open' , command = openFile)\n",
    "my_button.pack(pady=20)\n",
    "\n",
    "my_button2 = Button(root, text = \"open exe\" , command=openExe)\n",
    "my_button2.pack(pady=20)\n",
    "\n",
    "\n",
    "\n",
    "\n",
    "\n",
    "\n",
    "\n",
    "\n",
    "# end of tkinker \n",
    "root.mainloop()"
   ]
  }
 ],
 "metadata": {
  "kernelspec": {
   "display_name": "Python 3",
   "language": "python",
   "name": "python3"
  },
  "language_info": {
   "codemirror_mode": {
    "name": "ipython",
    "version": 3
   },
   "file_extension": ".py",
   "mimetype": "text/x-python",
   "name": "python",
   "nbconvert_exporter": "python",
   "pygments_lexer": "ipython3",
   "version": "3.11.2"
  },
  "orig_nbformat": 4
 },
 "nbformat": 4,
 "nbformat_minor": 2
}
